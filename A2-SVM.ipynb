{
 "cells": [
  {
   "cell_type": "markdown",
   "metadata": {},
   "source": [
    "## Assignment 2 - SVM and Signature Verification\n",
    "created by krohak 2018-03-01"
   ]
  },
  {
   "cell_type": "markdown",
   "metadata": {},
   "source": [
    "First, we import the necessary libraries:"
   ]
  },
  {
   "cell_type": "code",
   "execution_count": 1,
   "metadata": {
    "collapsed": true
   },
   "outputs": [],
   "source": [
    "import numpy as np\n",
    "from matplotlib import (pyplot as plt, patches as patches)\n",
    "from PIL import Image \n",
    "from skimage.filters import threshold_local \n",
    "\n",
    "import os\n",
    "from os import listdir\n",
    "from os.path import isfile, join\n",
    "\n",
    "from scipy.ndimage.measurements import center_of_mass\n",
    "from sklearn.metrics import accuracy_score\n",
    "import scipy.misc"
   ]
  },
  {
   "cell_type": "markdown",
   "metadata": {},
   "source": [
    "Some helper functions for Image processing utilities such as image binarization, normalization of the orientation, size and pixel value, etc."
   ]
  },
  {
   "cell_type": "code",
   "execution_count": 2,
   "metadata": {
    "collapsed": true
   },
   "outputs": [],
   "source": [
    "# area of bounding box\n",
    "def rotate_bbox_area(img, deg):\n",
    "    box = img.rotate(deg, expand=True).getbbox()\n",
    "    return (box[3] - box[1]) * (box[2] - box[0])\n",
    "    \n",
    "def rotate_crop(img, deg, padding=0):\n",
    "    img_rotate = img.rotate(deg, expand=True, resample=Image.BILINEAR)\n",
    "    box = img_rotate.getbbox()\n",
    "    if padding > 0:\n",
    "        box = np.asarray(box) + [-padding, -padding, +padding, +padding]\n",
    "    return img_rotate.crop(box)\n",
    "\n",
    "\n",
    "tol_deg = 1\n",
    "# smallest bounding box wihin -10~10 degrees rotation\n",
    "def opt_rotate(img, padding=0):\n",
    "    opt_deg = np.argmin(\n",
    "        [rotate_bbox_area(img, i) for i in range(-tol_deg,tol_deg+1)]\n",
    "        ) - tol_deg\n",
    "    return rotate_crop(img, opt_deg, padding)\n",
    "\n",
    "# downsampling\n",
    "def img_reduce(img, side=28, mode=Image.ANTIALIAS):\n",
    "    h = side + 1 \n",
    "    w = int(side * img.width / img.height) + 1\n",
    "    img_reduced = img.copy()\n",
    "    # the reduced image size is (w-1, h-1)\n",
    "    img_reduced.thumbnail((w, h), mode)\n",
    "    return img_reduced\n",
    "\n",
    "\n",
    "# convert PIL.Image object to numpy.Array, for training\n",
    "def img2arr(img):\n",
    "    return np.asarray(img.getdata(), dtype=np.uint8).reshape(img.height, img.width, -1)\n",
    "\n",
    "\n",
    "# process single signature with transparent background\n",
    "def process_one(img):\n",
    "    return img_reduce(opt_rotate(img, padding=1).convert('LA'))"
   ]
  },
  {
   "cell_type": "markdown",
   "metadata": {},
   "source": [
    "## Data Preparation\n",
    "The signature dataset is in the folder `original`. We need to divide this data into the genuine and forged signatures. I have created a Shell script called `arrange.sh` which arranges the signatures into two folders, `genuine` and `forged`."
   ]
  },
  {
   "cell_type": "code",
   "execution_count": 3,
   "metadata": {},
   "outputs": [
    {
     "data": {
      "text/plain": [
       "0"
      ]
     },
     "execution_count": 3,
     "metadata": {},
     "output_type": "execute_result"
    }
   ],
   "source": [
    "os.system('pwd')\n",
    "os.system('sh arrange.sh')"
   ]
  },
  {
   "cell_type": "markdown",
   "metadata": {},
   "source": [
    "Loading the image paths:"
   ]
  },
  {
   "cell_type": "code",
   "execution_count": 4,
   "metadata": {
    "collapsed": true
   },
   "outputs": [],
   "source": [
    "path_gen = 'original/genuine/'\n",
    "path_fog = 'original/forged/'\n",
    "positiveFiles = [ path_gen + f for f in listdir(path_gen) if isfile(join(path_gen, f))]\n",
    "negativeFiles = [ path_fog + f for f in listdir(path_fog) if isfile(join(path_fog, f))]"
   ]
  },
  {
   "cell_type": "code",
   "execution_count": 5,
   "metadata": {},
   "outputs": [
    {
     "data": {
      "text/plain": [
       "(['original/forged/aae3b7f9-79a60013.png',\n",
       "  'original/forged/a040d729-79a60013.png',\n",
       "  'original/forged/2be9661a-79a60013.png',\n",
       "  'original/forged/42a8bc0c-79a60013.png',\n",
       "  'original/forged/89ea3e39-79a60013.png'],\n",
       " ['original/genuine/c01d34ed-bc.png',\n",
       "  'original/genuine/4b595909-bc.png',\n",
       "  'original/genuine/e8f0d83e-bc.png',\n",
       "  'original/genuine/f16dfab5-bc.png',\n",
       "  'original/genuine/2a77f79b-bc.png'])"
      ]
     },
     "execution_count": 5,
     "metadata": {},
     "output_type": "execute_result"
    }
   ],
   "source": [
    "negativeFiles[0:5], positiveFiles[0:5]"
   ]
  },
  {
   "cell_type": "code",
   "execution_count": 6,
   "metadata": {},
   "outputs": [
    {
     "name": "stdout",
     "output_type": "stream",
     "text": [
      "210 105 105\n"
     ]
    }
   ],
   "source": [
    "num_files = len(positiveFiles)+len(negativeFiles)\n",
    "print(num_files, len(positiveFiles), len(negativeFiles))"
   ]
  },
  {
   "cell_type": "markdown",
   "metadata": {},
   "source": [
    "## Data Normalization"
   ]
  },
  {
   "cell_type": "markdown",
   "metadata": {},
   "source": [
    "Next, We try to run the preprocessing on one of the positive files. We run `preprocess_one()` to crop and rotate the given signature as per the largest bounding box found and to downsample the image."
   ]
  },
  {
   "cell_type": "code",
   "execution_count": 7,
   "metadata": {},
   "outputs": [
    {
     "name": "stdout",
     "output_type": "stream",
     "text": [
      "original/genuine/c01d34ed-bc.png\n",
      "image size (255, 127)\n",
      "reduced to (52, 28)\n"
     ]
    },
    {
     "data": {
      "image/png": "[encoded data removed]",
      "text/plain": [
       "<matplotlib.figure.Figure at 0x7f3658531470>"
      ]
     },
     "metadata": {},
     "output_type": "display_data"
    }
   ],
   "source": [
    "image_file = positiveFiles[0]\n",
    "print(image_file)\n",
    "img = Image.open(image_file).convert('LA')\n",
    "\n",
    "print('image size', img.size)\n",
    "img_reduced = process_one(img)\n",
    "print('reduced to', img_reduced.size)\n",
    "\n",
    "plt.imshow(img_reduced)\n",
    "plt.show()"
   ]
  },
  {
   "cell_type": "markdown",
   "metadata": {},
   "source": [
    "We then convert the PIL Image to an np array using `img2arr()` helper function:"
   ]
  },
  {
   "cell_type": "code",
   "execution_count": 8,
   "metadata": {},
   "outputs": [
    {
     "name": "stdout",
     "output_type": "stream",
     "text": [
      "(28, 52) uint8\n"
     ]
    }
   ],
   "source": [
    "img_arr = img2arr(img_reduced)[:,:,-1] # use the alpha channel, highter more opaque\n",
    "print(img_arr.shape, img_arr.dtype)"
   ]
  },
  {
   "cell_type": "markdown",
   "metadata": {},
   "source": [
    "Next, we standardize the final size of the np array by making it 28x28. We find the center of mass of the image and use the 28x28 square around it. Below is a step by step visualization of this process:"
   ]
  },
  {
   "cell_type": "code",
   "execution_count": 9,
   "metadata": {},
   "outputs": [
    {
     "name": "stdout",
     "output_type": "stream",
     "text": [
      "center of mass [ 14.  21.]\n",
      "size (28, 28) range [0, 255] thresholded density 0.121173469388\n"
     ]
    },
    {
     "data": {
      "image/png": "[encoded data removed]",
      "text/plain": [
       "<matplotlib.figure.Figure at 0x7f365810de10>"
      ]
     },
     "metadata": {},
     "output_type": "display_data"
    }
   ],
   "source": [
    "data = []\n",
    "center = np.round(center_of_mass(img_arr))\n",
    "print('center of mass', center)\n",
    "\n",
    "plt.subplots(1,3,figsize=(15,5))\n",
    "ax = plt.subplot(1,3,1)\n",
    "plt.imshow(img_arr, cmap='gray_r')\n",
    "\n",
    "h = img_arr.shape[0]\n",
    "left = int(center[1]) - h//2\n",
    "ax.add_patch(\n",
    "    patches.Rectangle((left-1, -1), h+1, h+1,\n",
    "                            linewidth=1, edgecolor='r', facecolor='none')\n",
    ")\n",
    "\n",
    "# we use the 28x28 square around the center of mass\n",
    "\n",
    "mat = img_arr[:, left:left+h]\n",
    "print('size', mat.shape, 'range', [mat.min(), mat.max()], \n",
    "      'thresholded density', (mat>127).sum()/(h*h))\n",
    "plt.subplot(1,3,2)\n",
    "plt.imshow(mat, cmap='gray_r')\n",
    "\n",
    "plt.subplot(1,3,3)\n",
    "plt.imshow(mat>127, cmap='gray_r')\n",
    "\n",
    "plt.show()\n",
    "\n",
    "mat = mat>17\n",
    "\n",
    "data.append(mat)"
   ]
  },
  {
   "cell_type": "markdown",
   "metadata": {},
   "source": [
    "We replicate the above steps in a loop to normalize and binarize all the images in our dataset. We concatenate the 28x28 array of each image to a feature vector of size 784. We append all feature vectors to the data list. We also append the labels (0 for forged and 1 for genuine) in another list. "
   ]
  },
  {
   "cell_type": "code",
   "execution_count": 10,
   "metadata": {
    "scrolled": false
   },
   "outputs": [
    {
     "name": "stdout",
     "output_type": "stream",
     "text": [
      "Normalized 210 signature arrays with dimension (784,)\n"
     ]
    }
   ],
   "source": [
    "data = []\n",
    "labels = []\n",
    "\n",
    "for file_type, files in enumerate([negativeFiles,positiveFiles]):\n",
    "    for image_file in files:\n",
    "        \n",
    "        # print(image_file,end='')\n",
    "\n",
    "        img = Image.open(image_file).convert('LA')\n",
    "        img_reduced = process_one(img)\n",
    "        img_arr = img2arr(img_reduced)[:,:,-1]\n",
    "        \n",
    "#         28x28 box around the center of mass of signature\n",
    "        center = np.round(center_of_mass(img_arr))\n",
    "        h = img_arr.shape[0]\n",
    "        left = int(center[1]) - h//2\n",
    "        mat = img_arr[:, left:left+h]\n",
    "        \n",
    "#         to save all normalized images for viewing: \n",
    "        # scipy.misc.imsave('normalized/%s.jpg'%image_file.split('/')[2], mat)\n",
    "        \n",
    "#         binarize the image \n",
    "        mat = mat>127\n",
    "        \n",
    "#         plot the binarized images\n",
    "        # plt.imshow(mat, cmap='gray_r')\n",
    "        # plt.show()\n",
    "\n",
    "        # convert from 28x28 to 784 \n",
    "        mat = np.concatenate(mat)\n",
    "        \n",
    "        if (mat.shape == (784,)):\n",
    "            data.append(mat)\n",
    "            labels.append(file_type)\n",
    "        else: \n",
    "            print(\"Removing %s from dataset\"%image_file)\n",
    "\n",
    "print(\"Normalized %s signature arrays with dimension %s\"%(len(data),data[1].shape))"
   ]
  },
  {
   "cell_type": "markdown",
   "metadata": {},
   "source": [
    "Finally, we convert the lists into np arrays:"
   ]
  },
  {
   "cell_type": "code",
   "execution_count": 11,
   "metadata": {},
   "outputs": [
    {
     "data": {
      "text/plain": [
       "(210, 784)"
      ]
     },
     "execution_count": 11,
     "metadata": {},
     "output_type": "execute_result"
    }
   ],
   "source": [
    "data_np = np.asarray(data)\n",
    "data_np.shape"
   ]
  },
  {
   "cell_type": "code",
   "execution_count": 12,
   "metadata": {},
   "outputs": [
    {
     "data": {
      "text/plain": [
       "(210,)"
      ]
     },
     "execution_count": 12,
     "metadata": {},
     "output_type": "execute_result"
    }
   ],
   "source": [
    "labels = np.asanyarray(labels)\n",
    "labels.shape"
   ]
  },
  {
   "cell_type": "markdown",
   "metadata": {},
   "source": [
    "## Training and Testing\n",
    "First we import some additional modules for our SVM model. "
   ]
  },
  {
   "cell_type": "code",
   "execution_count": 13,
   "metadata": {
    "collapsed": true
   },
   "outputs": [],
   "source": [
    "from sklearn.model_selection import train_test_split\n",
    "from sklearn.svm import SVC, NuSVC"
   ]
  },
  {
   "cell_type": "markdown",
   "metadata": {},
   "source": [
    "We shuffle the data before splitting it in 80-20, where 80 is for training our SVM model:"
   ]
  },
  {
   "cell_type": "code",
   "execution_count": 14,
   "metadata": {
    "collapsed": true
   },
   "outputs": [],
   "source": [
    "X_train, X_test, y_train, y_test = train_test_split(data_np, labels,  test_size=0.2 , random_state=np.random.seed(999557), shuffle=True)"
   ]
  },
  {
   "cell_type": "markdown",
   "metadata": {},
   "source": [
    "First we try out different kernels of SVC such as Linear and RBF. We also try out the NuSVC model:"
   ]
  },
  {
   "cell_type": "code",
   "execution_count": 15,
   "metadata": {},
   "outputs": [
    {
     "name": "stdout",
     "output_type": "stream",
     "text": [
      "92.8571428571\n"
     ]
    }
   ],
   "source": [
    "clf = SVC(kernel='linear')\n",
    "clf.fit(X_train, y_train) \n",
    "\n",
    "y_pred = clf.predict(X_test)\n",
    "\n",
    "score = accuracy_score(y_pred , y_test)*100\n",
    "print(score)"
   ]
  },
  {
   "cell_type": "code",
   "execution_count": 16,
   "metadata": {},
   "outputs": [
    {
     "name": "stdout",
     "output_type": "stream",
     "text": [
      "92.8571428571\n"
     ]
    }
   ],
   "source": [
    "clf = NuSVC()\n",
    "clf.fit(X_train, y_train) \n",
    "\n",
    "y_pred = clf.predict(X_test)\n",
    "\n",
    "score = accuracy_score(y_pred , y_test)*100\n",
    "print(score)"
   ]
  },
  {
   "cell_type": "code",
   "execution_count": 17,
   "metadata": {},
   "outputs": [
    {
     "name": "stdout",
     "output_type": "stream",
     "text": [
      "92.8571428571\n"
     ]
    }
   ],
   "source": [
    "clf = SVC()\n",
    "clf.fit(X_train, y_train) \n",
    "\n",
    "y_pred = clf.predict(X_test)\n",
    "\n",
    "score = accuracy_score(y_pred , y_test)*100\n",
    "print(score)"
   ]
  },
  {
   "cell_type": "markdown",
   "metadata": {},
   "source": [
    "For precision and recall of our trained model, we can visualize the confusion matrix of `y_test` vs `y_pred`. We can also calculate the exact precision and recall using `precision_score` and `recall_score`"
   ]
  },
  {
   "cell_type": "code",
   "execution_count": 18,
   "metadata": {},
   "outputs": [
    {
     "data": {
      "text/plain": [
       "array([[20,  1],\n",
       "       [ 2, 19]])"
      ]
     },
     "execution_count": 18,
     "metadata": {},
     "output_type": "execute_result"
    }
   ],
   "source": [
    "from sklearn.metrics import confusion_matrix\n",
    "confusion_matrix(y_test,y_pred)"
   ]
  },
  {
   "cell_type": "code",
   "execution_count": 19,
   "metadata": {},
   "outputs": [
    {
     "name": "stdout",
     "output_type": "stream",
     "text": [
      "Precision Score: 0.95, Recall Score: 0.904761904762\n"
     ]
    }
   ],
   "source": [
    "from sklearn.metrics import precision_score\n",
    "from sklearn.metrics import recall_score\n",
    "\n",
    "precision = precision_score(y_test, y_pred)\n",
    "recall = recall_score(y_test, y_pred)\n",
    "\n",
    "print(\"Precision Score: %s, Recall Score: %s\"%(precision, recall))"
   ]
  },
  {
   "cell_type": "markdown",
   "metadata": {},
   "source": [
    "The F1 score is a weighted average of the precision and recall, where an F1 score reaches its best value at 1 and worst score at 0. The formula for the F1 score is:\n",
    "\n",
    "`F1 = 2 * (precision * recall) / (precision + recall)`"
   ]
  },
  {
   "cell_type": "code",
   "execution_count": 20,
   "metadata": {},
   "outputs": [
    {
     "name": "stdout",
     "output_type": "stream",
     "text": [
      "F1 Score: 0.926829268293\n"
     ]
    }
   ],
   "source": [
    "from sklearn.metrics import f1_score\n",
    "f1 = f1_score(y_test, y_pred)\n",
    "\n",
    "print(\"F1 Score: %s\"%f1)"
   ]
  },
  {
   "cell_type": "markdown",
   "metadata": {},
   "source": [
    "## Experiments\n",
    "### Randomized Search with Cross Validation\n",
    "We can find out the best estimate for C and gamma, our hyperparameters for SVC using Randomized Search with Cross Validation:"
   ]
  },
  {
   "cell_type": "code",
   "execution_count": 21,
   "metadata": {},
   "outputs": [
    {
     "data": {
      "text/plain": [
       "RandomizedSearchCV(cv=None, error_score='raise',\n",
       "          estimator=SVC(C=1.0, cache_size=200, class_weight=None, coef0=0.0,\n",
       "  decision_function_shape='ovr', degree=3, gamma='auto', kernel='rbf',\n",
       "  max_iter=-1, probability=False, random_state=None, shrinking=True,\n",
       "  tol=0.001, verbose=False),\n",
       "          fit_params=None, iid=True, n_iter=10, n_jobs=1,\n",
       "          param_distributions={'gamma': <scipy.stats._distn_infrastructure.rv_frozen object at 0x7f365802a6a0>, 'C': <scipy.stats._distn_infrastructure.rv_frozen object at 0x7f365802aba8>},\n",
       "          pre_dispatch='2*n_jobs', random_state=None, refit=True,\n",
       "          return_train_score=True, scoring=None, verbose=0)"
      ]
     },
     "execution_count": 21,
     "metadata": {},
     "output_type": "execute_result"
    }
   ],
   "source": [
    "from sklearn.model_selection import RandomizedSearchCV\n",
    "from scipy.stats import reciprocal, uniform\n",
    "\n",
    "param_distributions = {\"gamma\": reciprocal(0.001, 0.01), \"C\": uniform(1, 10)}\n",
    "clf = SVC()\n",
    "rnd_search_cv = RandomizedSearchCV(clf, param_distributions, n_iter=10)\n",
    "X_train, X_test, y_train, y_test = train_test_split(data_np, labels,  test_size=0.2 , random_state=np.random.seed(999554), shuffle=True)\n",
    "rnd_search_cv.fit(X_train, y_train)"
   ]
  },
  {
   "cell_type": "code",
   "execution_count": 22,
   "metadata": {},
   "outputs": [
    {
     "data": {
      "text/plain": [
       "SVC(C=10.976213775127844, cache_size=200, class_weight=None, coef0=0.0,\n",
       "  decision_function_shape='ovr', degree=3, gamma=0.0089843691773399507,\n",
       "  kernel='rbf', max_iter=-1, probability=False, random_state=None,\n",
       "  shrinking=True, tol=0.001, verbose=False)"
      ]
     },
     "execution_count": 22,
     "metadata": {},
     "output_type": "execute_result"
    }
   ],
   "source": [
    "rnd_search_cv.best_estimator_"
   ]
  },
  {
   "cell_type": "code",
   "execution_count": 23,
   "metadata": {},
   "outputs": [
    {
     "data": {
      "text/plain": [
       "0.92261904761904767"
      ]
     },
     "execution_count": 23,
     "metadata": {},
     "output_type": "execute_result"
    }
   ],
   "source": [
    "rnd_search_cv.best_score_"
   ]
  },
  {
   "cell_type": "code",
   "execution_count": 24,
   "metadata": {},
   "outputs": [
    {
     "data": {
      "text/plain": [
       "0.97619047619047616"
      ]
     },
     "execution_count": 24,
     "metadata": {},
     "output_type": "execute_result"
    }
   ],
   "source": [
    "y_pred = rnd_search_cv.best_estimator_.predict(X_test)\n",
    "accuracy_score(y_test, y_pred)"
   ]
  },
  {
   "cell_type": "code",
   "execution_count": 25,
   "metadata": {},
   "outputs": [
    {
     "data": {
      "text/plain": [
       "array([[22,  1],\n",
       "       [ 0, 19]])"
      ]
     },
     "execution_count": 25,
     "metadata": {},
     "output_type": "execute_result"
    }
   ],
   "source": [
    "confusion_matrix(y_test,y_pred)"
   ]
  },
  {
   "cell_type": "code",
   "execution_count": 26,
   "metadata": {},
   "outputs": [
    {
     "name": "stdout",
     "output_type": "stream",
     "text": [
      "Precision Score: 0.95, Recall Score: 1.0\n",
      "F1 Score: 0.974358974359\n"
     ]
    }
   ],
   "source": [
    "precision = precision_score(y_test, y_pred)\n",
    "recall = recall_score(y_test, y_pred)\n",
    "print(\"Precision Score: %s, Recall Score: %s\"%(precision, recall))\n",
    "\n",
    "f1 = f1_score(y_test, y_pred)\n",
    "print(\"F1 Score: %s\"%f1)"
   ]
  },
  {
   "cell_type": "markdown",
   "metadata": {
    "collapsed": true
   },
   "source": [
    "### Random training-testing splits\n",
    "We can also try out random testing and training splits for 100 iterations and see how our model performs on average. This time, we provide it the best estimate of C and gamma value obtained above:"
   ]
  },
  {
   "cell_type": "code",
   "execution_count": 27,
   "metadata": {},
   "outputs": [
    {
     "name": "stdout",
     "output_type": "stream",
     "text": [
      "Average accuracy for 100 random training batches: 93.2619047619\n"
     ]
    }
   ],
   "source": [
    "# data_set, labels_set = shuffle(data_np, labels)\n",
    "scores=[]\n",
    "pred_list = []\n",
    "test_list = []\n",
    "iterations = 100\n",
    "for i in range(iterations):\n",
    "    X_train, X_test, y_train, y_test = train_test_split(data_np, labels,  test_size=0.2 , random_state=np.random.seed(), shuffle=True)\n",
    "\n",
    "    clf = SVC(C=10,gamma=0.00898)\n",
    "    clf.fit(X_train, y_train) \n",
    "\n",
    "    y_pred = clf.predict(X_test)\n",
    "    \n",
    "    score = accuracy_score(y_pred , y_test)*100\n",
    "    #print(score)\n",
    "    scores.append(score)\n",
    "    pred_list.append(y_pred)\n",
    "    test_list.append(y_test)\n",
    "    \n",
    "print('Average accuracy for %s random training batches: %s'%(iterations,sum(scores)/len(scores)))"
   ]
  },
  {
   "cell_type": "code",
   "execution_count": 28,
   "metadata": {},
   "outputs": [
    {
     "name": "stdout",
     "output_type": "stream",
     "text": [
      "Precision Score: 0.925662878788, Recall Score: 0.939452186449\n",
      "F1 Score: 0.93250655855\n"
     ]
    }
   ],
   "source": [
    "test_list = [item for sublist in test_list for item in sublist]\n",
    "pred_list = [item for sublist in pred_list for item in sublist]\n",
    "confusion_matrix(test_list,pred_list)/100\n",
    "\n",
    "precision = precision_score(test_list, pred_list)\n",
    "recall = recall_score(test_list, pred_list)\n",
    "print(\"Precision Score: %s, Recall Score: %s\"%(precision, recall))\n",
    "\n",
    "f1 = f1_score(test_list, pred_list)\n",
    "print(\"F1 Score: %s\"%f1)"
   ]
  }
 ],
 "metadata": {
  "kernelspec": {
   "display_name": "Python 3",
   "language": "python",
   "name": "python3"
  },
  "language_info": {
   "codemirror_mode": {
    "name": "ipython",
    "version": 3
   },
   "file_extension": ".py",
   "mimetype": "text/x-python",
   "name": "python",
   "nbconvert_exporter": "python",
   "pygments_lexer": "ipython3",
   "version": "3.6.1"
  }
 },
 "nbformat": 4,
 "nbformat_minor": 2
}
